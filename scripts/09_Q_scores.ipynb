{
 "cells": [
  {
   "cell_type": "markdown",
   "metadata": {},
   "source": [
    "# 09_Q_scores\n",
    "\n",
    "Use Q scores to see how well the original embedding fits the hyperbolic plane"
   ]
  },
  {
   "cell_type": "code",
   "execution_count": 1,
   "metadata": {},
   "outputs": [],
   "source": [
    "%load_ext autoreload\n",
    "%autoreload 2\n",
    "\n",
    "import sys\n",
    "sys.path.append('/Users/cchu/Desktop/phd_work/hyperChromatin/src/PoincareMaps')\n",
    "import os\n",
    "workdir = '../results/09'\n",
    "os.makedirs(workdir, exist_ok=True)\n"
   ]
  },
  {
   "cell_type": "code",
   "execution_count": 12,
   "metadata": {},
   "outputs": [],
   "source": [
    "import scanpy as sc\n",
    "import pandas as pd\n",
    "import numpy as np\n",
    "import seaborn as sns\n",
    "import torch \n",
    "from refs import celltype_colors\n",
    "import matplotlib.pyplot as plt\n",
    "from IPython.display import Image\n",
    "from run_poincare_map import features_names\n",
    "\n",
    "from main import *\n",
    "from poincare_maps import *\n",
    "from embedding_quality_score import get_quality_metrics\n"
   ]
  },
  {
   "cell_type": "code",
   "execution_count": 3,
   "metadata": {},
   "outputs": [],
   "source": [
    "rna_pca_name = '../results/03/rna_pca.celltype_label'\n",
    "rna_simba_name = '../results/03/rna_simba.celltype_label'\n",
    "atac_pca_name = '../results/03/atac_std_pca.celltype_label'\n",
    "atac_simba_name = '../results/03/atac_simba.celltype_label'\n",
    "simba_multi_name = '../results/03/multi_simba.celltype_label'\n",
    "\n",
    "names = [rna_pca_name, rna_simba_name, atac_pca_name, atac_simba_name, simba_multi_name]\n",
    "\n",
    "poincare_results = {\n",
    "    \"RNA PCA\": rna_pca_name, \"RNA Simba\": rna_simba_name, \n",
    "    \"ATAC PCA (standard)\": atac_pca_name, \"ATAC Simba\": atac_simba_name, \n",
    "    \"Simba Multi\": simba_multi_name\n",
    "}"
   ]
  },
  {
   "cell_type": "code",
   "execution_count": 4,
   "metadata": {},
   "outputs": [],
   "source": [
    "dist_from_origins_fn = \"../results/05/dist_from_origins.csv\"\n",
    "dist_from_origins_df = pd.read_csv(dist_from_origins_fn, sep=',')"
   ]
  },
  {
   "cell_type": "code",
   "execution_count": 6,
   "metadata": {},
   "outputs": [
    {
     "data": {
      "text/html": [
       "<div>\n",
       "<style scoped>\n",
       "    .dataframe tbody tr th:only-of-type {\n",
       "        vertical-align: middle;\n",
       "    }\n",
       "\n",
       "    .dataframe tbody tr th {\n",
       "        vertical-align: top;\n",
       "    }\n",
       "\n",
       "    .dataframe thead th {\n",
       "        text-align: right;\n",
       "    }\n",
       "</style>\n",
       "<table border=\"1\" class=\"dataframe\">\n",
       "  <thead>\n",
       "    <tr style=\"text-align: right;\">\n",
       "      <th></th>\n",
       "      <th>x</th>\n",
       "      <th>y</th>\n",
       "      <th>labels</th>\n",
       "      <th>dist_from_origin</th>\n",
       "      <th>dist_from_TAC-1</th>\n",
       "      <th>name</th>\n",
       "    </tr>\n",
       "  </thead>\n",
       "  <tbody>\n",
       "    <tr>\n",
       "      <th>0</th>\n",
       "      <td>-0.041638</td>\n",
       "      <td>-0.006655</td>\n",
       "      <td>TAC-1</td>\n",
       "      <td>0.084382</td>\n",
       "      <td>0.059359</td>\n",
       "      <td>RNA PCA</td>\n",
       "    </tr>\n",
       "    <tr>\n",
       "      <th>1</th>\n",
       "      <td>-0.107620</td>\n",
       "      <td>0.002094</td>\n",
       "      <td>TAC-1</td>\n",
       "      <td>0.216119</td>\n",
       "      <td>0.176808</td>\n",
       "      <td>RNA PCA</td>\n",
       "    </tr>\n",
       "    <tr>\n",
       "      <th>2</th>\n",
       "      <td>0.031848</td>\n",
       "      <td>-0.027072</td>\n",
       "      <td>TAC-1</td>\n",
       "      <td>0.083649</td>\n",
       "      <td>0.117622</td>\n",
       "      <td>RNA PCA</td>\n",
       "    </tr>\n",
       "    <tr>\n",
       "      <th>3</th>\n",
       "      <td>-0.092457</td>\n",
       "      <td>0.012742</td>\n",
       "      <td>TAC-1</td>\n",
       "      <td>0.187207</td>\n",
       "      <td>0.160049</td>\n",
       "      <td>RNA PCA</td>\n",
       "    </tr>\n",
       "    <tr>\n",
       "      <th>4</th>\n",
       "      <td>-0.052169</td>\n",
       "      <td>-0.081695</td>\n",
       "      <td>TAC-1</td>\n",
       "      <td>0.194473</td>\n",
       "      <td>0.111875</td>\n",
       "      <td>RNA PCA</td>\n",
       "    </tr>\n",
       "    <tr>\n",
       "      <th>...</th>\n",
       "      <td>...</td>\n",
       "      <td>...</td>\n",
       "      <td>...</td>\n",
       "      <td>...</td>\n",
       "      <td>...</td>\n",
       "      <td>...</td>\n",
       "    </tr>\n",
       "    <tr>\n",
       "      <th>31962</th>\n",
       "      <td>-0.030961</td>\n",
       "      <td>0.019797</td>\n",
       "      <td>TAC-2</td>\n",
       "      <td>0.073532</td>\n",
       "      <td>0.420982</td>\n",
       "      <td>Simba Multi</td>\n",
       "    </tr>\n",
       "    <tr>\n",
       "      <th>31963</th>\n",
       "      <td>0.116407</td>\n",
       "      <td>0.215752</td>\n",
       "      <td>TAC-1</td>\n",
       "      <td>0.500497</td>\n",
       "      <td>0.245015</td>\n",
       "      <td>Simba Multi</td>\n",
       "    </tr>\n",
       "    <tr>\n",
       "      <th>31964</th>\n",
       "      <td>0.302629</td>\n",
       "      <td>-0.128221</td>\n",
       "      <td>TAC-2</td>\n",
       "      <td>0.682676</td>\n",
       "      <td>0.586310</td>\n",
       "      <td>Simba Multi</td>\n",
       "    </tr>\n",
       "    <tr>\n",
       "      <th>31965</th>\n",
       "      <td>0.055994</td>\n",
       "      <td>0.193045</td>\n",
       "      <td>TAC-1</td>\n",
       "      <td>0.407551</td>\n",
       "      <td>0.277414</td>\n",
       "      <td>Simba Multi</td>\n",
       "    </tr>\n",
       "    <tr>\n",
       "      <th>31966</th>\n",
       "      <td>-0.011998</td>\n",
       "      <td>-0.182091</td>\n",
       "      <td>Medulla</td>\n",
       "      <td>0.369106</td>\n",
       "      <td>0.681024</td>\n",
       "      <td>Simba Multi</td>\n",
       "    </tr>\n",
       "  </tbody>\n",
       "</table>\n",
       "<p>31967 rows × 6 columns</p>\n",
       "</div>"
      ],
      "text/plain": [
       "              x         y   labels  dist_from_origin  dist_from_TAC-1  \\\n",
       "0     -0.041638 -0.006655    TAC-1          0.084382         0.059359   \n",
       "1     -0.107620  0.002094    TAC-1          0.216119         0.176808   \n",
       "2      0.031848 -0.027072    TAC-1          0.083649         0.117622   \n",
       "3     -0.092457  0.012742    TAC-1          0.187207         0.160049   \n",
       "4     -0.052169 -0.081695    TAC-1          0.194473         0.111875   \n",
       "...         ...       ...      ...               ...              ...   \n",
       "31962 -0.030961  0.019797    TAC-2          0.073532         0.420982   \n",
       "31963  0.116407  0.215752    TAC-1          0.500497         0.245015   \n",
       "31964  0.302629 -0.128221    TAC-2          0.682676         0.586310   \n",
       "31965  0.055994  0.193045    TAC-1          0.407551         0.277414   \n",
       "31966 -0.011998 -0.182091  Medulla          0.369106         0.681024   \n",
       "\n",
       "              name  \n",
       "0          RNA PCA  \n",
       "1          RNA PCA  \n",
       "2          RNA PCA  \n",
       "3          RNA PCA  \n",
       "4          RNA PCA  \n",
       "...            ...  \n",
       "31962  Simba Multi  \n",
       "31963  Simba Multi  \n",
       "31964  Simba Multi  \n",
       "31965  Simba Multi  \n",
       "31966  Simba Multi  \n",
       "\n",
       "[31967 rows x 6 columns]"
      ]
     },
     "execution_count": 6,
     "metadata": {},
     "output_type": "execute_result"
    }
   ],
   "source": [
    "dist_from_origins_df"
   ]
  },
  {
   "cell_type": "code",
   "execution_count": 15,
   "metadata": {},
   "outputs": [
    {
     "name": "stdout",
     "output_type": "stream",
     "text": [
      "Qlocal = 0.26, Qglobal = 0.70, Kmax = 921\n",
      "Qlocal = 0.35, Qglobal = 0.73, Kmax = 714\n",
      "Qlocal = 0.33, Qglobal = 0.74, Kmax = 765\n",
      "Qlocal = 0.33, Qglobal = 0.74, Kmax = 856\n",
      "Qlocal = 0.41, Qglobal = 0.78, Kmax = 861\n"
     ]
    }
   ],
   "source": [
    "q_scores_df = pd.DataFrame(index=list(features_names.keys()), columns=['Method', 'Qlocal', 'Qglobal', 'Kmax'])\n",
    "for name, poincare_coor_df in dist_from_origins_df.groupby('name'):\n",
    "    features_df = pd.read_csv(f\"{features_names[name]}.csv\", sep=',').drop(columns='labels')\n",
    "    \n",
    "    df = pd.DataFrame(columns=['Dataset', 'Method', 'Qlocal', 'Qglobal', 'Kmax'])\n",
    "    Qlocal, Qglobal, Kmax = get_quality_metrics(\n",
    "            features_df.values, \n",
    "            poincare_coor_df[['x', 'y']].values, \n",
    "            distance='poincare', \n",
    "            fname=None,\n",
    "            verbose=True)\n",
    "    q_scores_df.loc[name, 'Method'] = 'Poincare'\n",
    "    q_scores_df.loc[name, 'Qlocal'] = Qlocal\n",
    "    q_scores_df.loc[name, 'Qglobal'] = Qglobal\n",
    "    q_scores_df.loc[name, 'Kmax'] = Kmax"
   ]
  },
  {
   "cell_type": "code",
   "execution_count": 33,
   "metadata": {},
   "outputs": [],
   "source": [
    "data_types = pd.Series({\n",
    "    \"RNA PCA\": \"RNA\", \n",
    "    \"RNA Simba\": \"RNA\", \n",
    "    \"ATAC PCA (standard)\": \"ATAC\", \n",
    "    \"ATAC Simba\": \"ATAC\", \n",
    "    \"Simba Multi\": \"RNA+ATAC\"\n",
    "})\n",
    "embed_method_types = pd.Series({\n",
    "    \"RNA PCA\": \"PCA\", \n",
    "    \"RNA Simba\": \"SIMBA\", \n",
    "    \"ATAC PCA (standard)\": \"PCA\", \n",
    "    \"ATAC Simba\": \"SIMBA\", \n",
    "    \"Simba Multi\": \"SIMBA\"\n",
    "})\n",
    "q_scores_df.loc[data_types.index, 'Data Type'] = data_types.copy()\n",
    "q_scores_df.loc[embed_method_types.index, 'Embedding Method Type'] = embed_method_types.copy()"
   ]
  },
  {
   "cell_type": "code",
   "execution_count": 17,
   "metadata": {},
   "outputs": [
    {
     "name": "stdout",
     "output_type": "stream",
     "text": [
      "../results/09/q_scores.csv\n"
     ]
    }
   ],
   "source": [
    "q_scores_fn = f'{workdir}/q_scores.csv'\n",
    "print(q_scores_fn)\n",
    "q_scores_df.to_csv(q_scores_fn)"
   ]
  },
  {
   "cell_type": "code",
   "execution_count": 34,
   "metadata": {},
   "outputs": [
    {
     "data": {
      "text/html": [
       "<div>\n",
       "<style scoped>\n",
       "    .dataframe tbody tr th:only-of-type {\n",
       "        vertical-align: middle;\n",
       "    }\n",
       "\n",
       "    .dataframe tbody tr th {\n",
       "        vertical-align: top;\n",
       "    }\n",
       "\n",
       "    .dataframe thead th {\n",
       "        text-align: right;\n",
       "    }\n",
       "</style>\n",
       "<table border=\"1\" class=\"dataframe\">\n",
       "  <thead>\n",
       "    <tr style=\"text-align: right;\">\n",
       "      <th></th>\n",
       "      <th>Method</th>\n",
       "      <th>Qlocal</th>\n",
       "      <th>Qglobal</th>\n",
       "      <th>Kmax</th>\n",
       "      <th>Data Type</th>\n",
       "      <th>Embedding Method Type</th>\n",
       "    </tr>\n",
       "  </thead>\n",
       "  <tbody>\n",
       "    <tr>\n",
       "      <th>RNA PCA</th>\n",
       "      <td>Poincare</td>\n",
       "      <td>0.32934</td>\n",
       "      <td>0.737088</td>\n",
       "      <td>765</td>\n",
       "      <td>RNA</td>\n",
       "      <td>PCA</td>\n",
       "    </tr>\n",
       "    <tr>\n",
       "      <th>RNA Simba</th>\n",
       "      <td>Poincare</td>\n",
       "      <td>0.326661</td>\n",
       "      <td>0.735021</td>\n",
       "      <td>856</td>\n",
       "      <td>RNA</td>\n",
       "      <td>SIMBA</td>\n",
       "    </tr>\n",
       "    <tr>\n",
       "      <th>ATAC PCA</th>\n",
       "      <td>NaN</td>\n",
       "      <td>NaN</td>\n",
       "      <td>NaN</td>\n",
       "      <td>NaN</td>\n",
       "      <td>ATAC</td>\n",
       "      <td>NaN</td>\n",
       "    </tr>\n",
       "    <tr>\n",
       "      <th>ATAC PCA (standard)</th>\n",
       "      <td>Poincare</td>\n",
       "      <td>0.264946</td>\n",
       "      <td>0.703255</td>\n",
       "      <td>921</td>\n",
       "      <td>ATAC</td>\n",
       "      <td>PCA</td>\n",
       "    </tr>\n",
       "    <tr>\n",
       "      <th>ATAC Simba</th>\n",
       "      <td>Poincare</td>\n",
       "      <td>0.351464</td>\n",
       "      <td>0.730622</td>\n",
       "      <td>714</td>\n",
       "      <td>ATAC</td>\n",
       "      <td>SIMBA</td>\n",
       "    </tr>\n",
       "    <tr>\n",
       "      <th>Simba Multi</th>\n",
       "      <td>Poincare</td>\n",
       "      <td>0.410784</td>\n",
       "      <td>0.78212</td>\n",
       "      <td>861</td>\n",
       "      <td>RNA+ATAC</td>\n",
       "      <td>SIMBA</td>\n",
       "    </tr>\n",
       "  </tbody>\n",
       "</table>\n",
       "</div>"
      ],
      "text/plain": [
       "                       Method    Qlocal   Qglobal Kmax Data Type  \\\n",
       "RNA PCA              Poincare   0.32934  0.737088  765       RNA   \n",
       "RNA Simba            Poincare  0.326661  0.735021  856       RNA   \n",
       "ATAC PCA                  NaN       NaN       NaN  NaN      ATAC   \n",
       "ATAC PCA (standard)  Poincare  0.264946  0.703255  921      ATAC   \n",
       "ATAC Simba           Poincare  0.351464  0.730622  714      ATAC   \n",
       "Simba Multi          Poincare  0.410784   0.78212  861  RNA+ATAC   \n",
       "\n",
       "                    Embedding Method Type  \n",
       "RNA PCA                               PCA  \n",
       "RNA Simba                           SIMBA  \n",
       "ATAC PCA                              NaN  \n",
       "ATAC PCA (standard)                   PCA  \n",
       "ATAC Simba                          SIMBA  \n",
       "Simba Multi                         SIMBA  "
      ]
     },
     "execution_count": 34,
     "metadata": {},
     "output_type": "execute_result"
    }
   ],
   "source": [
    "q_scores_df"
   ]
  },
  {
   "cell_type": "code",
   "execution_count": 36,
   "metadata": {},
   "outputs": [
    {
     "data": {
      "text/plain": [
       "<Axes: xlabel='Qlocal', ylabel='Qglobal'>"
      ]
     },
     "execution_count": 36,
     "metadata": {},
     "output_type": "execute_result"
    },
    {
     "data": {
      "image/png": "[encoded data removed]",
      "text/plain": [
       "<Figure size 640x480 with 1 Axes>"
      ]
     },
     "metadata": {},
     "output_type": "display_data"
    }
   ],
   "source": [
    "sns.scatterplot(q_scores_df.dropna(), x='Qlocal', y='Qglobal', hue='Data Type', style='Embedding Method Type')\n",
    "# for name, r in q_scores_df.dropna().iterrows():\n",
    "#     plt.annotate(name, (r['Qlocal'], r['Qglobal']))"
   ]
  },
  {
   "cell_type": "code",
   "execution_count": null,
   "metadata": {},
   "outputs": [],
   "source": []
  }
 ],
 "metadata": {
  "kernelspec": {
   "display_name": "hyperChrom_pyenv",
   "language": "python",
   "name": "python3"
  },
  "language_info": {
   "codemirror_mode": {
    "name": "ipython",
    "version": 3
   },
   "file_extension": ".py",
   "mimetype": "text/x-python",
   "name": "python",
   "nbconvert_exporter": "python",
   "pygments_lexer": "ipython3",
   "version": "3.8.8"
  }
 },
 "nbformat": 4,
 "nbformat_minor": 2
}
